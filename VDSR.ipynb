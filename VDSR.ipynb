{
 "cells": [
  {
   "cell_type": "markdown",
   "id": "e9cce087",
   "metadata": {},
   "source": [
    "SRCNN의 한계는 3개의 컨볼루션 레이어만을 사용하여 네트워크가 매우 얕고, 세부적인 특징과 복잡한 패턴을 학습하는 데 한계가 있다는 점이다. 이러한 한계를 극복하기 위해 VDSR(Very Deep Super-Resolution)은 네트워크를 20개의 컨볼루션 레이어로 확장하고, 잔차 학습(Residual Learning)을 도입하여 저화질 이미지를 고화질 이미지로 효과적으로 재구성할 수 있도록 설계되었다.\n",
    "\n",
    "첫 번째 컨볼루션 레이어는 저화질(LR) 이미지의 3채널 RGB 데이터를 입력으로 받아, 3x3 크기의 커널 필터를 사용해 64개의 특징맵을 생성한다. 이 과정에서 패딩 1을 적용해 이미지의 크기를 유지하며, 활성화 함수로 ReLU를 사용하여 비선형성을 추가한다.\n",
    "\n",
    "이후, 18개의 잔차 블록(Residual Block)으로 구성된 컨볼루션 레이어는 네트워크의 핵심이다. 각 블록은 3x3 커널 필터와 패딩 1을 적용하며, 활성화 함수로 ReLU를 사용한다. 이러한 구조는 입력 이미지에서 복잡한 고주파 정보(에지, 텍스처 등)를 효과적으로 복원할 수 있도록 설계되었다. 잔차 블록은 입력 이미지와 고해상도 이미지 간의 차이를 학습하여 네트워크의 학습 과정을 단순화하고 효율성을 높인다.\n",
    "\n",
    "마지막 컨볼루션 레이어에서는 64개의 특징맵을 다시 3채널 RGB 이미지로 변환하기 위해 3x3 커널 필터를 사용하며, 패딩 1을 적용하여 이미지 크기를 유지한다. 최종적으로 네트워크의 출력에 입력 이미지를 더하는 Skip Connection을 통해 고해상도(HR) 이미지를 재구성한다. 이 과정은 저화질 이미지에서 잔차 정보를 추가적으로 복원하여 보다 정확한 고화질 이미지를 생성함"
   ]
  },
  {
   "cell_type": "code",
   "execution_count": 1,
   "id": "093566c2",
   "metadata": {},
   "outputs": [
    {
     "name": "stderr",
     "output_type": "stream",
     "text": [
      "2024-12-22 04:24:04.658693: I tensorflow/core/util/port.cc:110] oneDNN custom operations are on. You may see slightly different numerical results due to floating-point round-off errors from different computation orders. To turn them off, set the environment variable `TF_ENABLE_ONEDNN_OPTS=0`.\n",
      "2024-12-22 04:24:04.699400: I tensorflow/core/platform/cpu_feature_guard.cc:182] This TensorFlow binary is optimized to use available CPU instructions in performance-critical operations.\n",
      "To enable the following instructions: AVX2 AVX512F AVX512_VNNI FMA, in other operations, rebuild TensorFlow with the appropriate compiler flags.\n",
      "2024-12-22 04:24:05.400684: W tensorflow/compiler/tf2tensorrt/utils/py_utils.cc:38] TF-TRT Warning: Could not find TensorRT\n",
      "2024-12-22 04:24:06.442411: I tensorflow/core/common_runtime/gpu/gpu_device.cc:1639] Created device /job:localhost/replica:0/task:0/device:GPU:0 with 36305 MB memory:  -> device: 0, name: NVIDIA A100-PCIE-40GB, pci bus id: 0000:af:00.0, compute capability: 8.0\n"
     ]
    }
   ],
   "source": [
    "import tensorflow.compat.v1 as tf1\n",
    "import os\n",
    "\n",
    "os.environ[\"CUDA_VISIBLE_DEVICES\"] = \"3\"\n",
    "config = tf1.ConfigProto()\n",
    "config.gpu_options.per_process_gpu_memory_fraction = 0.9\n",
    "session = tf1.Session(config=config)"
   ]
  },
  {
   "cell_type": "code",
   "execution_count": 5,
   "id": "8d1bf83c",
   "metadata": {},
   "outputs": [
    {
     "name": "stdout",
     "output_type": "stream",
     "text": [
      "Training VDSR...\n"
     ]
    },
    {
     "name": "stderr",
     "output_type": "stream",
     "text": [
      "Training Epoch 1/100:   0%|                                                                                                                                    | 0/17500 [00:00<?, ?it/s][W pthreadpool-cpp.cc:90] Warning: Leaking Caffe2 thread-pool after fork. (function pthreadpool)\n",
      "[W pthreadpool-cpp.cc:90] Warning: Leaking Caffe2 thread-pool after fork. (function pthreadpool)\n",
      "[W pthreadpool-cpp.cc:90] Warning: Leaking Caffe2 thread-pool after fork. (function pthreadpool)\n",
      "[W pthreadpool-cpp.cc:90] Warning: Leaking Caffe2 thread-pool after fork. (function pthreadpool)\n",
      "Training Epoch 1/100: 100%|████████████████████████████████████████████████████████████████████████████████████████████████████████████████████████| 17500/17500 [10:12<00:00, 28.56it/s]\n",
      "Validating:   0%|                                                                                                                                               | 0/1750 [00:00<?, ?it/s][W pthreadpool-cpp.cc:90] Warning: Leaking Caffe2 thread-pool after fork. (function pthreadpool)\n",
      "[W pthreadpool-cpp.cc:90] Warning: Leaking Caffe2 thread-pool after fork. (function pthreadpool)\n",
      "[W pthreadpool-cpp.cc:90] Warning: Leaking Caffe2 thread-pool after fork. (function pthreadpool)\n",
      "[W pthreadpool-cpp.cc:90] Warning: Leaking Caffe2 thread-pool after fork. (function pthreadpool)\n",
      "Validating: 100%|██████████████████████████████████████████████████████████████████████████████████████████████████████████████████████████████████▌| 1744/1750 [00:07<00:00, 259.87it/s][W pthreadpool-cpp.cc:90] Warning: Leaking Caffe2 thread-pool after fork. (function pthreadpool)\n",
      "Validating: 100%|███████████████████████████████████████████████████████████████████████████████████████████████████████████████████████████████████| 1750/1750 [00:07<00:00, 233.27it/s]\n"
     ]
    },
    {
     "name": "stdout",
     "output_type": "stream",
     "text": [
      "Epoch 1/100 | Train Loss: 0.0041 | Train PSNR: 24.5457 | Valid Loss: 0.0031 | Valid PSNR: 25.8542 | Valid SSIM: 0.8053\n",
      "Best model saved!\n"
     ]
    },
    {
     "name": "stderr",
     "output_type": "stream",
     "text": [
      "Training Epoch 2/100:   0%|                                                                                                                                    | 0/17500 [00:00<?, ?it/s][W pthreadpool-cpp.cc:90] Warning: Leaking Caffe2 thread-pool after fork. (function pthreadpool)\n",
      "[W pthreadpool-cpp.cc:90] Warning: Leaking Caffe2 thread-pool after fork. (function pthreadpool)\n",
      "[W pthreadpool-cpp.cc:90] Warning: Leaking Caffe2 thread-pool after fork. (function pthreadpool)\n",
      "[W pthreadpool-cpp.cc:90] Warning: Leaking Caffe2 thread-pool after fork. (function pthreadpool)\n",
      "Training Epoch 2/100: 100%|████████████████████████████████████████████████████████████████████████████████████████████████████████████████████████| 17500/17500 [10:12<00:00, 28.56it/s]\n",
      "Validating:   0%|                                                                                                                                               | 0/1750 [00:00<?, ?it/s][W pthreadpool-cpp.cc:90] Warning: Leaking Caffe2 thread-pool after fork. (function pthreadpool)\n",
      "[W pthreadpool-cpp.cc:90] Warning: Leaking Caffe2 thread-pool after fork. (function pthreadpool)\n",
      "[W pthreadpool-cpp.cc:90] Warning: Leaking Caffe2 thread-pool after fork. (function pthreadpool)\n",
      "[W pthreadpool-cpp.cc:90] Warning: Leaking Caffe2 thread-pool after fork. (function pthreadpool)\n",
      "Validating: 100%|███████████████████████████████████████████████████████████████████████████████████████████████████████████████████████████████████| 1750/1750 [00:07<00:00, 247.39it/s]\n"
     ]
    },
    {
     "name": "stdout",
     "output_type": "stream",
     "text": [
      "Epoch 2/100 | Train Loss: 0.0029 | Train PSNR: 25.9728 | Valid Loss: 0.0028 | Valid PSNR: 26.3262 | Valid SSIM: 0.8207\n",
      "Best model saved!\n"
     ]
    },
    {
     "name": "stderr",
     "output_type": "stream",
     "text": [
      "Training Epoch 3/100:   0%|                                                                                                                                    | 0/17500 [00:00<?, ?it/s][W pthreadpool-cpp.cc:90] Warning: Leaking Caffe2 thread-pool after fork. (function pthreadpool)\n",
      "[W pthreadpool-cpp.cc:90] Warning: Leaking Caffe2 thread-pool after fork. (function pthreadpool)\n",
      "[W pthreadpool-cpp.cc:90] Warning: Leaking Caffe2 thread-pool after fork. (function pthreadpool)\n",
      "[W pthreadpool-cpp.cc:90] Warning: Leaking Caffe2 thread-pool after fork. (function pthreadpool)\n",
      "Training Epoch 3/100: 100%|████████████████████████████████████████████████████████████████████████████████████████████████████████████████████████| 17500/17500 [10:15<00:00, 28.44it/s]\n",
      "Validating:   0%|                                                                                                                                               | 0/1750 [00:00<?, ?it/s][W pthreadpool-cpp.cc:90] Warning: Leaking Caffe2 thread-pool after fork. (function pthreadpool)\n",
      "[W pthreadpool-cpp.cc:90] Warning: Leaking Caffe2 thread-pool after fork. (function pthreadpool)\n",
      "[W pthreadpool-cpp.cc:90] Warning: Leaking Caffe2 thread-pool after fork. (function pthreadpool)\n",
      "[W pthreadpool-cpp.cc:90] Warning: Leaking Caffe2 thread-pool after fork. (function pthreadpool)\n",
      "Validating: 100%|███████████████████████████████████████████████████████████████████████████████████████████████████████████████████████████████████| 1750/1750 [00:06<00:00, 255.34it/s]\n"
     ]
    },
    {
     "name": "stdout",
     "output_type": "stream",
     "text": [
      "Epoch 3/100 | Train Loss: 0.0027 | Train PSNR: 26.2660 | Valid Loss: 0.0026 | Valid PSNR: 26.5533 | Valid SSIM: 0.8278\n",
      "Best model saved!\n"
     ]
    },
    {
     "name": "stderr",
     "output_type": "stream",
     "text": [
      "Training Epoch 4/100:   0%|                                                                                                                                    | 0/17500 [00:00<?, ?it/s][W pthreadpool-cpp.cc:90] Warning: Leaking Caffe2 thread-pool after fork. (function pthreadpool)\n",
      "[W pthreadpool-cpp.cc:90] Warning: Leaking Caffe2 thread-pool after fork. (function pthreadpool)\n",
      "[W pthreadpool-cpp.cc:90] Warning: Leaking Caffe2 thread-pool after fork. (function pthreadpool)\n",
      "[W pthreadpool-cpp.cc:90] Warning: Leaking Caffe2 thread-pool after fork. (function pthreadpool)\n",
      "Training Epoch 4/100: 100%|████████████████████████████████████████████████████████████████████████████████████████████████████████████████████████| 17500/17500 [10:04<00:00, 28.97it/s]\n",
      "Validating:   0%|                                                                                                                                               | 0/1750 [00:00<?, ?it/s][W pthreadpool-cpp.cc:90] Warning: Leaking Caffe2 thread-pool after fork. (function pthreadpool)\n",
      "[W pthreadpool-cpp.cc:90] Warning: Leaking Caffe2 thread-pool after fork. (function pthreadpool)\n",
      "[W pthreadpool-cpp.cc:90] Warning: Leaking Caffe2 thread-pool after fork. (function pthreadpool)\n",
      "[W pthreadpool-cpp.cc:90] Warning: Leaking Caffe2 thread-pool after fork. (function pthreadpool)\n",
      "Validating: 100%|███████████████████████████████████████████████████████████████████████████████████████████████████████████████████████████████████| 1750/1750 [00:07<00:00, 237.72it/s]\n"
     ]
    },
    {
     "name": "stdout",
     "output_type": "stream",
     "text": [
      "Epoch 4/100 | Train Loss: 0.0026 | Train PSNR: 26.4141 | Valid Loss: 0.0026 | Valid PSNR: 26.5552 | Valid SSIM: 0.8283\n",
      "Best model saved!\n"
     ]
    },
    {
     "name": "stderr",
     "output_type": "stream",
     "text": [
      "Training Epoch 5/100:   0%|                                                                                                                                    | 0/17500 [00:00<?, ?it/s][W pthreadpool-cpp.cc:90] Warning: Leaking Caffe2 thread-pool after fork. (function pthreadpool)\n",
      "[W pthreadpool-cpp.cc:90] Warning: Leaking Caffe2 thread-pool after fork. (function pthreadpool)\n",
      "[W pthreadpool-cpp.cc:90] Warning: Leaking Caffe2 thread-pool after fork. (function pthreadpool)\n",
      "[W pthreadpool-cpp.cc:90] Warning: Leaking Caffe2 thread-pool after fork. (function pthreadpool)\n",
      "Training Epoch 5/100: 100%|████████████████████████████████████████████████████████████████████████████████████████████████████████████████████████| 17500/17500 [10:01<00:00, 29.10it/s]\n",
      "Validating:   0%|                                                                                                                                               | 0/1750 [00:00<?, ?it/s][W pthreadpool-cpp.cc:90] Warning: Leaking Caffe2 thread-pool after fork. (function pthreadpool)\n",
      "[W pthreadpool-cpp.cc:90] Warning: Leaking Caffe2 thread-pool after fork. (function pthreadpool)\n",
      "[W pthreadpool-cpp.cc:90] Warning: Leaking Caffe2 thread-pool after fork. (function pthreadpool)\n",
      "[W pthreadpool-cpp.cc:90] Warning: Leaking Caffe2 thread-pool after fork. (function pthreadpool)\n",
      "Validating: 100%|███████████████████████████████████████████████████████████████████████████████████████████████████████████████████████████████████| 1750/1750 [00:06<00:00, 250.02it/s]\n"
     ]
    },
    {
     "name": "stdout",
     "output_type": "stream",
     "text": [
      "Epoch 5/100 | Train Loss: 0.0026 | Train PSNR: 26.5330 | Valid Loss: 0.0026 | Valid PSNR: 26.5943 | Valid SSIM: 0.8312\n",
      "Best model saved!\n"
     ]
    },
    {
     "name": "stderr",
     "output_type": "stream",
     "text": [
      "Training Epoch 6/100:   0%|                                                                                                                                    | 0/17500 [00:00<?, ?it/s][W pthreadpool-cpp.cc:90] Warning: Leaking Caffe2 thread-pool after fork. (function pthreadpool)\n",
      "[W pthreadpool-cpp.cc:90] Warning: Leaking Caffe2 thread-pool after fork. (function pthreadpool)\n",
      "[W pthreadpool-cpp.cc:90] Warning: Leaking Caffe2 thread-pool after fork. (function pthreadpool)\n",
      "[W pthreadpool-cpp.cc:90] Warning: Leaking Caffe2 thread-pool after fork. (function pthreadpool)\n",
      "Training Epoch 6/100: 100%|████████████████████████████████████████████████████████████████████████████████████████████████████████████████████████| 17500/17500 [10:22<00:00, 28.13it/s]\n",
      "Validating:   0%|                                                                                                                                               | 0/1750 [00:00<?, ?it/s][W pthreadpool-cpp.cc:90] Warning: Leaking Caffe2 thread-pool after fork. (function pthreadpool)\n",
      "[W pthreadpool-cpp.cc:90] Warning: Leaking Caffe2 thread-pool after fork. (function pthreadpool)\n",
      "[W pthreadpool-cpp.cc:90] Warning: Leaking Caffe2 thread-pool after fork. (function pthreadpool)\n",
      "[W pthreadpool-cpp.cc:90] Warning: Leaking Caffe2 thread-pool after fork. (function pthreadpool)\n",
      "Validating: 100%|███████████████████████████████████████████████████████████████████████████████████████████████████████████████████████████████████| 1750/1750 [00:06<00:00, 251.29it/s]\n"
     ]
    },
    {
     "name": "stdout",
     "output_type": "stream",
     "text": [
      "Epoch 6/100 | Train Loss: 0.0025 | Train PSNR: 26.6159 | Valid Loss: 0.0025 | Valid PSNR: 26.7802 | Valid SSIM: 0.8349\n",
      "Best model saved!\n"
     ]
    },
    {
     "name": "stderr",
     "output_type": "stream",
     "text": [
      "Training Epoch 7/100:   0%|                                                                                                                                    | 0/17500 [00:00<?, ?it/s][W pthreadpool-cpp.cc:90] Warning: Leaking Caffe2 thread-pool after fork. (function pthreadpool)\n",
      "[W pthreadpool-cpp.cc:90] Warning: Leaking Caffe2 thread-pool after fork. (function pthreadpool)\n",
      "[W pthreadpool-cpp.cc:90] Warning: Leaking Caffe2 thread-pool after fork. (function pthreadpool)\n",
      "[W pthreadpool-cpp.cc:90] Warning: Leaking Caffe2 thread-pool after fork. (function pthreadpool)\n",
      "Training Epoch 7/100: 100%|████████████████████████████████████████████████████████████████████████████████████████████████████████████████████████| 17500/17500 [10:13<00:00, 28.52it/s]\n",
      "Validating:   0%|                                                                                                                                               | 0/1750 [00:00<?, ?it/s][W pthreadpool-cpp.cc:90] Warning: Leaking Caffe2 thread-pool after fork. (function pthreadpool)\n",
      "[W pthreadpool-cpp.cc:90] Warning: Leaking Caffe2 thread-pool after fork. (function pthreadpool)\n",
      "[W pthreadpool-cpp.cc:90] Warning: Leaking Caffe2 thread-pool after fork. (function pthreadpool)\n",
      "[W pthreadpool-cpp.cc:90] Warning: Leaking Caffe2 thread-pool after fork. (function pthreadpool)\n",
      "Validating: 100%|███████████████████████████████████████████████████████████████████████████████████████████████████████████████████████████████████| 1750/1750 [00:07<00:00, 248.91it/s]\n"
     ]
    },
    {
     "name": "stdout",
     "output_type": "stream",
     "text": [
      "Epoch 7/100 | Train Loss: 0.0025 | Train PSNR: 26.7039 | Valid Loss: 0.0024 | Valid PSNR: 26.9139 | Valid SSIM: 0.8371\n",
      "Best model saved!\n"
     ]
    },
    {
     "name": "stderr",
     "output_type": "stream",
     "text": [
      "Training Epoch 8/100:   0%|                                                                                                                                    | 0/17500 [00:00<?, ?it/s][W pthreadpool-cpp.cc:90] Warning: Leaking Caffe2 thread-pool after fork. (function pthreadpool)\n",
      "[W pthreadpool-cpp.cc:90] Warning: Leaking Caffe2 thread-pool after fork. (function pthreadpool)\n",
      "[W pthreadpool-cpp.cc:90] Warning: Leaking Caffe2 thread-pool after fork. (function pthreadpool)\n",
      "[W pthreadpool-cpp.cc:90] Warning: Leaking Caffe2 thread-pool after fork. (function pthreadpool)\n",
      "Training Epoch 8/100: 100%|████████████████████████████████████████████████████████████████████████████████████████████████████████████████████████| 17500/17500 [08:18<00:00, 35.12it/s]\n",
      "Validating:   0%|                                                                                                                                               | 0/1750 [00:00<?, ?it/s][W pthreadpool-cpp.cc:90] Warning: Leaking Caffe2 thread-pool after fork. (function pthreadpool)\n",
      "[W pthreadpool-cpp.cc:90] Warning: Leaking Caffe2 thread-pool after fork. (function pthreadpool)\n",
      "[W pthreadpool-cpp.cc:90] Warning: Leaking Caffe2 thread-pool after fork. (function pthreadpool)\n",
      "[W pthreadpool-cpp.cc:90] Warning: Leaking Caffe2 thread-pool after fork. (function pthreadpool)\n",
      "Validating: 100%|███████████████████████████████████████████████████████████████████████████████████████████████████████████████████████████████████| 1750/1750 [00:06<00:00, 253.80it/s]\n"
     ]
    },
    {
     "name": "stdout",
     "output_type": "stream",
     "text": [
      "Epoch 8/100 | Train Loss: 0.0024 | Train PSNR: 26.7711 | Valid Loss: 0.0025 | Valid PSNR: 26.8031 | Valid SSIM: 0.8345\n"
     ]
    },
    {
     "name": "stderr",
     "output_type": "stream",
     "text": [
      "Training Epoch 9/100:   0%|                                                                                                                                    | 0/17500 [00:00<?, ?it/s][W pthreadpool-cpp.cc:90] Warning: Leaking Caffe2 thread-pool after fork. (function pthreadpool)\n",
      "[W pthreadpool-cpp.cc:90] Warning: Leaking Caffe2 thread-pool after fork. (function pthreadpool)\n",
      "[W pthreadpool-cpp.cc:90] Warning: Leaking Caffe2 thread-pool after fork. (function pthreadpool)\n",
      "[W pthreadpool-cpp.cc:90] Warning: Leaking Caffe2 thread-pool after fork. (function pthreadpool)\n",
      "Training Epoch 9/100: 100%|████████████████████████████████████████████████████████████████████████████████████████████████████████████████████████| 17500/17500 [09:46<00:00, 29.86it/s]\n",
      "Validating:   0%|                                                                                                                                               | 0/1750 [00:00<?, ?it/s][W pthreadpool-cpp.cc:90] Warning: Leaking Caffe2 thread-pool after fork. (function pthreadpool)\n",
      "[W pthreadpool-cpp.cc:90] Warning: Leaking Caffe2 thread-pool after fork. (function pthreadpool)\n",
      "[W pthreadpool-cpp.cc:90] Warning: Leaking Caffe2 thread-pool after fork. (function pthreadpool)\n",
      "[W pthreadpool-cpp.cc:90] Warning: Leaking Caffe2 thread-pool after fork. (function pthreadpool)\n",
      "Validating: 100%|███████████████████████████████████████████████████████████████████████████████████████████████████████████████████████████████████| 1750/1750 [00:07<00:00, 235.83it/s]\n"
     ]
    },
    {
     "name": "stdout",
     "output_type": "stream",
     "text": [
      "Epoch 9/100 | Train Loss: 0.0024 | Train PSNR: 26.8487 | Valid Loss: 0.0024 | Valid PSNR: 26.8904 | Valid SSIM: 0.8399\n",
      "Best model saved!\n"
     ]
    },
    {
     "name": "stderr",
     "output_type": "stream",
     "text": [
      "Training Epoch 10/100:   0%|                                                                                                                                   | 0/17500 [00:00<?, ?it/s][W pthreadpool-cpp.cc:90] Warning: Leaking Caffe2 thread-pool after fork. (function pthreadpool)\n",
      "[W pthreadpool-cpp.cc:90] Warning: Leaking Caffe2 thread-pool after fork. (function pthreadpool)\n",
      "[W pthreadpool-cpp.cc:90] Warning: Leaking Caffe2 thread-pool after fork. (function pthreadpool)\n",
      "[W pthreadpool-cpp.cc:90] Warning: Leaking Caffe2 thread-pool after fork. (function pthreadpool)\n",
      "Training Epoch 10/100: 100%|███████████████████████████████████████████████████████████████████████████████████████████████████████████████████████| 17500/17500 [10:00<00:00, 29.16it/s]\n",
      "Validating:   0%|                                                                                                                                               | 0/1750 [00:00<?, ?it/s][W pthreadpool-cpp.cc:90] Warning: Leaking Caffe2 thread-pool after fork. (function pthreadpool)\n",
      "[W pthreadpool-cpp.cc:90] Warning: Leaking Caffe2 thread-pool after fork. (function pthreadpool)\n",
      "[W pthreadpool-cpp.cc:90] Warning: Leaking Caffe2 thread-pool after fork. (function pthreadpool)\n",
      "[W pthreadpool-cpp.cc:90] Warning: Leaking Caffe2 thread-pool after fork. (function pthreadpool)\n",
      "Validating: 100%|███████████████████████████████████████████████████████████████████████████████████████████████████████████████████████████████████| 1750/1750 [00:07<00:00, 221.36it/s]\n"
     ]
    },
    {
     "name": "stdout",
     "output_type": "stream",
     "text": [
      "Epoch 10/100 | Train Loss: 0.0024 | Train PSNR: 26.9152 | Valid Loss: 0.0023 | Valid PSNR: 27.0921 | Valid SSIM: 0.8425\n",
      "Best model saved!\n"
     ]
    },
    {
     "name": "stderr",
     "output_type": "stream",
     "text": [
      "Training Epoch 11/100:   0%|                                                                                                                                   | 0/17500 [00:00<?, ?it/s][W pthreadpool-cpp.cc:90] Warning: Leaking Caffe2 thread-pool after fork. (function pthreadpool)\n",
      "[W pthreadpool-cpp.cc:90] Warning: Leaking Caffe2 thread-pool after fork. (function pthreadpool)\n",
      "[W pthreadpool-cpp.cc:90] Warning: Leaking Caffe2 thread-pool after fork. (function pthreadpool)\n",
      "[W pthreadpool-cpp.cc:90] Warning: Leaking Caffe2 thread-pool after fork. (function pthreadpool)\n",
      "Training Epoch 11/100: 100%|███████████████████████████████████████████████████████████████████████████████████████████████████████████████████████| 17500/17500 [10:09<00:00, 28.71it/s]\n",
      "Validating:   0%|                                                                                                                                               | 0/1750 [00:00<?, ?it/s][W pthreadpool-cpp.cc:90] Warning: Leaking Caffe2 thread-pool after fork. (function pthreadpool)\n",
      "[W pthreadpool-cpp.cc:90] Warning: Leaking Caffe2 thread-pool after fork. (function pthreadpool)\n",
      "[W pthreadpool-cpp.cc:90] Warning: Leaking Caffe2 thread-pool after fork. (function pthreadpool)\n",
      "[W pthreadpool-cpp.cc:90] Warning: Leaking Caffe2 thread-pool after fork. (function pthreadpool)\n",
      "Validating: 100%|███████████████████████████████████████████████████████████████████████████████████████████████████████████████████████████████████▋| 1746/1750 [00:23<00:00, 74.44it/s][W pthreadpool-cpp.cc:90] Warning: Leaking Caffe2 thread-pool after fork. (function pthreadpool)\n",
      "[W pthreadpool-cpp.cc:90] Warning: Leaking Caffe2 thread-pool after fork. (function pthreadpool)\n",
      "Validating: 100%|████████████████████████████████████████████████████████████████████████████████████████████████████████████████████████████████████| 1750/1750 [00:23<00:00, 73.33it/s]\n"
     ]
    },
    {
     "name": "stdout",
     "output_type": "stream",
     "text": [
      "Epoch 11/100 | Train Loss: 0.0023 | Train PSNR: 26.9629 | Valid Loss: 0.0023 | Valid PSNR: 27.0850 | Valid SSIM: 0.8427\n"
     ]
    },
    {
     "name": "stderr",
     "output_type": "stream",
     "text": [
      "Training Epoch 12/100:   0%|                                                                                                                                   | 0/17500 [00:00<?, ?it/s][W pthreadpool-cpp.cc:90] Warning: Leaking Caffe2 thread-pool after fork. (function pthreadpool)\n",
      "[W pthreadpool-cpp.cc:90] Warning: Leaking Caffe2 thread-pool after fork. (function pthreadpool)\n",
      "[W pthreadpool-cpp.cc:90] Warning: Leaking Caffe2 thread-pool after fork. (function pthreadpool)\n",
      "[W pthreadpool-cpp.cc:90] Warning: Leaking Caffe2 thread-pool after fork. (function pthreadpool)\n",
      "Training Epoch 12/100: 100%|██████████████████████████████████████████████████████████████████████████████████████████████████████████████████████▉| 17499/17500 [10:33<00:00, 28.16it/s][W pthreadpool-cpp.cc:90] Warning: Leaking Caffe2 thread-pool after fork. (function pthreadpool)\n",
      "Training Epoch 12/100: 100%|███████████████████████████████████████████████████████████████████████████████████████████████████████████████████████| 17500/17500 [10:33<00:00, 27.62it/s]\n",
      "Validating:   0%|                                                                                                                                               | 0/1750 [00:00<?, ?it/s][W pthreadpool-cpp.cc:90] Warning: Leaking Caffe2 thread-pool after fork. (function pthreadpool)\n",
      "[W pthreadpool-cpp.cc:90] Warning: Leaking Caffe2 thread-pool after fork. (function pthreadpool)\n",
      "[W pthreadpool-cpp.cc:90] Warning: Leaking Caffe2 thread-pool after fork. (function pthreadpool)\n",
      "[W pthreadpool-cpp.cc:90] Warning: Leaking Caffe2 thread-pool after fork. (function pthreadpool)\n",
      "Validating: 100%|███████████████████████████████████████████████████████████████████████████████████████████████████████████████████████████████████| 1750/1750 [00:07<00:00, 243.28it/s]\n"
     ]
    },
    {
     "name": "stdout",
     "output_type": "stream",
     "text": [
      "Epoch 12/100 | Train Loss: 0.0023 | Train PSNR: 27.0152 | Valid Loss: 0.0023 | Valid PSNR: 27.1506 | Valid SSIM: 0.8436\n",
      "Best model saved!\n"
     ]
    },
    {
     "name": "stderr",
     "output_type": "stream",
     "text": [
      "Training Epoch 13/100:   0%|                                                                                                                                   | 0/17500 [00:00<?, ?it/s][W pthreadpool-cpp.cc:90] Warning: Leaking Caffe2 thread-pool after fork. (function pthreadpool)\n",
      "[W pthreadpool-cpp.cc:90] Warning: Leaking Caffe2 thread-pool after fork. (function pthreadpool)\n",
      "[W pthreadpool-cpp.cc:90] Warning: Leaking Caffe2 thread-pool after fork. (function pthreadpool)\n",
      "[W pthreadpool-cpp.cc:90] Warning: Leaking Caffe2 thread-pool after fork. (function pthreadpool)\n",
      "Training Epoch 13/100: 100%|███████████████████████████████████████████████████████████████████████████████████████████████████████████████████████| 17500/17500 [10:27<00:00, 27.87it/s]\n",
      "Validating:   0%|                                                                                                                                               | 0/1750 [00:00<?, ?it/s][W pthreadpool-cpp.cc:90] Warning: Leaking Caffe2 thread-pool after fork. (function pthreadpool)\n",
      "[W pthreadpool-cpp.cc:90] Warning: Leaking Caffe2 thread-pool after fork. (function pthreadpool)\n",
      "[W pthreadpool-cpp.cc:90] Warning: Leaking Caffe2 thread-pool after fork. (function pthreadpool)\n",
      "[W pthreadpool-cpp.cc:90] Warning: Leaking Caffe2 thread-pool after fork. (function pthreadpool)\n",
      "Validating: 100%|███████████████████████████████████████████████████████████████████████████████████████████████████████████████████████████████████| 1750/1750 [00:07<00:00, 244.29it/s]\n"
     ]
    },
    {
     "name": "stdout",
     "output_type": "stream",
     "text": [
      "Epoch 13/100 | Train Loss: 0.0023 | Train PSNR: 27.0636 | Valid Loss: 0.0023 | Valid PSNR: 27.2378 | Valid SSIM: 0.8456\n",
      "Best model saved!\n"
     ]
    },
    {
     "name": "stderr",
     "output_type": "stream",
     "text": [
      "Training Epoch 14/100:   0%|                                                                                                                                   | 0/17500 [00:00<?, ?it/s][W pthreadpool-cpp.cc:90] Warning: Leaking Caffe2 thread-pool after fork. (function pthreadpool)\n",
      "[W pthreadpool-cpp.cc:90] Warning: Leaking Caffe2 thread-pool after fork. (function pthreadpool)\n",
      "[W pthreadpool-cpp.cc:90] Warning: Leaking Caffe2 thread-pool after fork. (function pthreadpool)\n",
      "[W pthreadpool-cpp.cc:90] Warning: Leaking Caffe2 thread-pool after fork. (function pthreadpool)\n",
      "Training Epoch 14/100: 100%|███████████████████████████████████████████████████████████████████████████████████████████████████████████████████████| 17500/17500 [10:19<00:00, 28.25it/s]\n",
      "Validating:   0%|                                                                                                                                               | 0/1750 [00:00<?, ?it/s][W pthreadpool-cpp.cc:90] Warning: Leaking Caffe2 thread-pool after fork. (function pthreadpool)\n",
      "[W pthreadpool-cpp.cc:90] Warning: Leaking Caffe2 thread-pool after fork. (function pthreadpool)\n",
      "[W pthreadpool-cpp.cc:90] Warning: Leaking Caffe2 thread-pool after fork. (function pthreadpool)\n",
      "[W pthreadpool-cpp.cc:90] Warning: Leaking Caffe2 thread-pool after fork. (function pthreadpool)\n",
      "Validating: 100%|███████████████████████████████████████████████████████████████████████████████████████████████████████████████████████████████████| 1750/1750 [00:07<00:00, 246.70it/s]\n"
     ]
    },
    {
     "name": "stdout",
     "output_type": "stream",
     "text": [
      "Epoch 14/100 | Train Loss: 0.0023 | Train PSNR: 27.1091 | Valid Loss: 0.0023 | Valid PSNR: 27.2322 | Valid SSIM: 0.8462\n",
      "Best model saved!\n"
     ]
    },
    {
     "name": "stderr",
     "output_type": "stream",
     "text": [
      "Training Epoch 15/100:   0%|                                                                                                                                   | 0/17500 [00:00<?, ?it/s][W pthreadpool-cpp.cc:90] Warning: Leaking Caffe2 thread-pool after fork. (function pthreadpool)\n",
      "[W pthreadpool-cpp.cc:90] Warning: Leaking Caffe2 thread-pool after fork. (function pthreadpool)\n",
      "[W pthreadpool-cpp.cc:90] Warning: Leaking Caffe2 thread-pool after fork. (function pthreadpool)\n",
      "[W pthreadpool-cpp.cc:90] Warning: Leaking Caffe2 thread-pool after fork. (function pthreadpool)\n",
      "Training Epoch 15/100: 100%|███████████████████████████████████████████████████████████████████████████████████████████████████████████████████████| 17500/17500 [11:55<00:00, 24.47it/s]\n",
      "Validating:   0%|                                                                                                                                               | 0/1750 [00:00<?, ?it/s][W pthreadpool-cpp.cc:90] Warning: Leaking Caffe2 thread-pool after fork. (function pthreadpool)\n",
      "[W pthreadpool-cpp.cc:90] Warning: Leaking Caffe2 thread-pool after fork. (function pthreadpool)\n",
      "[W pthreadpool-cpp.cc:90] Warning: Leaking Caffe2 thread-pool after fork. (function pthreadpool)\n",
      "[W pthreadpool-cpp.cc:90] Warning: Leaking Caffe2 thread-pool after fork. (function pthreadpool)\n",
      "Validating: 100%|███████████████████████████████████████████████████████████████████████████████████████████████████████████████████████████████████▍| 1742/1750 [02:45<00:00, 22.67it/s][W pthreadpool-cpp.cc:90] Warning: Leaking Caffe2 thread-pool after fork. (function pthreadpool)\n",
      "Validating: 100%|████████████████████████████████████████████████████████████████████████████████████████████████████████████████████████████████████| 1750/1750 [02:45<00:00, 10.59it/s]\n"
     ]
    },
    {
     "name": "stdout",
     "output_type": "stream",
     "text": [
      "Epoch 15/100 | Train Loss: 0.0022 | Train PSNR: 27.1439 | Valid Loss: 0.0022 | Valid PSNR: 27.2982 | Valid SSIM: 0.8478\n",
      "Best model saved!\n"
     ]
    },
    {
     "name": "stderr",
     "output_type": "stream",
     "text": [
      "Training Epoch 16/100:   0%|                                                                                                                                   | 0/17500 [00:00<?, ?it/s][W pthreadpool-cpp.cc:90] Warning: Leaking Caffe2 thread-pool after fork. (function pthreadpool)\n",
      "[W pthreadpool-cpp.cc:90] Warning: Leaking Caffe2 thread-pool after fork. (function pthreadpool)\n",
      "[W pthreadpool-cpp.cc:90] Warning: Leaking Caffe2 thread-pool after fork. (function pthreadpool)\n",
      "[W pthreadpool-cpp.cc:90] Warning: Leaking Caffe2 thread-pool after fork. (function pthreadpool)\n",
      "Training Epoch 16/100: 100%|█████████████████████████████████████████████████████████████████████████████████████████████████████████████████████| 17500/17500 [1:01:15<00:00,  4.76it/s]\n",
      "Validating:   0%|                                                                                                                                               | 0/1750 [00:00<?, ?it/s][W pthreadpool-cpp.cc:90] Warning: Leaking Caffe2 thread-pool after fork. (function pthreadpool)\n",
      "[W pthreadpool-cpp.cc:90] Warning: Leaking Caffe2 thread-pool after fork. (function pthreadpool)\n",
      "[W pthreadpool-cpp.cc:90] Warning: Leaking Caffe2 thread-pool after fork. (function pthreadpool)\n",
      "[W pthreadpool-cpp.cc:90] Warning: Leaking Caffe2 thread-pool after fork. (function pthreadpool)\n",
      "Validating: 100%|████████████████████████████████████████████████████████████████████████████████████████████████████████████████████████████████████| 1750/1750 [03:05<00:00,  9.42it/s]\n"
     ]
    },
    {
     "name": "stdout",
     "output_type": "stream",
     "text": [
      "Epoch 16/100 | Train Loss: 0.0022 | Train PSNR: 27.1770 | Valid Loss: 0.0022 | Valid PSNR: 27.2874 | Valid SSIM: 0.8477\n",
      "Best model saved!\n"
     ]
    },
    {
     "name": "stderr",
     "output_type": "stream",
     "text": [
      "Training Epoch 17/100:   0%|                                                                                                                                   | 0/17500 [00:00<?, ?it/s][W pthreadpool-cpp.cc:90] Warning: Leaking Caffe2 thread-pool after fork. (function pthreadpool)\n",
      "[W pthreadpool-cpp.cc:90] Warning: Leaking Caffe2 thread-pool after fork. (function pthreadpool)\n",
      "[W pthreadpool-cpp.cc:90] Warning: Leaking Caffe2 thread-pool after fork. (function pthreadpool)\n",
      "[W pthreadpool-cpp.cc:90] Warning: Leaking Caffe2 thread-pool after fork. (function pthreadpool)\n",
      "Training Epoch 17/100: 100%|███████████████████████████████████████████████████████████████████████████████████████████████████████████████████████| 17500/17500 [30:30<00:00,  9.56it/s]\n",
      "Validating:   0%|                                                                                                                                               | 0/1750 [00:00<?, ?it/s][W pthreadpool-cpp.cc:90] Warning: Leaking Caffe2 thread-pool after fork. (function pthreadpool)\n",
      "[W pthreadpool-cpp.cc:90] Warning: Leaking Caffe2 thread-pool after fork. (function pthreadpool)\n",
      "[W pthreadpool-cpp.cc:90] Warning: Leaking Caffe2 thread-pool after fork. (function pthreadpool)\n",
      "[W pthreadpool-cpp.cc:90] Warning: Leaking Caffe2 thread-pool after fork. (function pthreadpool)\n",
      "Validating: 100%|███████████████████████████████████████████████████████████████████████████████████████████████████████████████████████████████████| 1750/1750 [00:07<00:00, 237.30it/s]\n"
     ]
    },
    {
     "name": "stdout",
     "output_type": "stream",
     "text": [
      "Epoch 17/100 | Train Loss: 0.0022 | Train PSNR: 27.2238 | Valid Loss: 0.0022 | Valid PSNR: 27.3103 | Valid SSIM: 0.8481\n",
      "Best model saved!\n"
     ]
    },
    {
     "name": "stderr",
     "output_type": "stream",
     "text": [
      "Training Epoch 18/100:   0%|                                                                                                                                   | 0/17500 [00:00<?, ?it/s][W pthreadpool-cpp.cc:90] Warning: Leaking Caffe2 thread-pool after fork. (function pthreadpool)\n",
      "[W pthreadpool-cpp.cc:90] Warning: Leaking Caffe2 thread-pool after fork. (function pthreadpool)\n",
      "[W pthreadpool-cpp.cc:90] Warning: Leaking Caffe2 thread-pool after fork. (function pthreadpool)\n",
      "[W pthreadpool-cpp.cc:90] Warning: Leaking Caffe2 thread-pool after fork. (function pthreadpool)\n",
      "Training Epoch 18/100: 100%|███████████████████████████████████████████████████████████████████████████████████████████████████████████████████████| 17500/17500 [09:44<00:00, 27.92it/s][W pthreadpool-cpp.cc:90] Warning: Leaking Caffe2 thread-pool after fork. (function pthreadpool)\n",
      "Training Epoch 18/100: 100%|███████████████████████████████████████████████████████████████████████████████████████████████████████████████████████| 17500/17500 [09:44<00:00, 29.95it/s]\n",
      "Validating:   0%|                                                                                                                                               | 0/1750 [00:00<?, ?it/s][W pthreadpool-cpp.cc:90] Warning: Leaking Caffe2 thread-pool after fork. (function pthreadpool)\n",
      "[W pthreadpool-cpp.cc:90] Warning: Leaking Caffe2 thread-pool after fork. (function pthreadpool)\n",
      "[W pthreadpool-cpp.cc:90] Warning: Leaking Caffe2 thread-pool after fork. (function pthreadpool)\n",
      "[W pthreadpool-cpp.cc:90] Warning: Leaking Caffe2 thread-pool after fork. (function pthreadpool)\n",
      "Validating: 100%|███████████████████████████████████████████████████████████████████████████████████████████████████████████████████████████████████| 1750/1750 [00:06<00:00, 253.51it/s]\n"
     ]
    },
    {
     "name": "stdout",
     "output_type": "stream",
     "text": [
      "Epoch 18/100 | Train Loss: 0.0022 | Train PSNR: 27.2549 | Valid Loss: 0.0022 | Valid PSNR: 27.3871 | Valid SSIM: 0.8500\n",
      "Best model saved!\n"
     ]
    },
    {
     "name": "stderr",
     "output_type": "stream",
     "text": [
      "Training Epoch 19/100:   0%|                                                                                                                                   | 0/17500 [00:00<?, ?it/s][W pthreadpool-cpp.cc:90] Warning: Leaking Caffe2 thread-pool after fork. (function pthreadpool)\n",
      "[W pthreadpool-cpp.cc:90] Warning: Leaking Caffe2 thread-pool after fork. (function pthreadpool)\n",
      "[W pthreadpool-cpp.cc:90] Warning: Leaking Caffe2 thread-pool after fork. (function pthreadpool)\n",
      "[W pthreadpool-cpp.cc:90] Warning: Leaking Caffe2 thread-pool after fork. (function pthreadpool)\n",
      "Training Epoch 19/100: 100%|███████████████████████████████████████████████████████████████████████████████████████████████████████████████████████| 17500/17500 [10:31<00:00, 27.70it/s]\n",
      "Validating:   0%|                                                                                                                                               | 0/1750 [00:00<?, ?it/s][W pthreadpool-cpp.cc:90] Warning: Leaking Caffe2 thread-pool after fork. (function pthreadpool)\n",
      "[W pthreadpool-cpp.cc:90] Warning: Leaking Caffe2 thread-pool after fork. (function pthreadpool)\n",
      "[W pthreadpool-cpp.cc:90] Warning: Leaking Caffe2 thread-pool after fork. (function pthreadpool)\n",
      "[W pthreadpool-cpp.cc:90] Warning: Leaking Caffe2 thread-pool after fork. (function pthreadpool)\n",
      "Validating: 100%|███████████████████████████████████████████████████████████████████████████████████████████████████████████████████████████████████| 1750/1750 [00:06<00:00, 254.63it/s]\n"
     ]
    },
    {
     "name": "stdout",
     "output_type": "stream",
     "text": [
      "Epoch 19/100 | Train Loss: 0.0022 | Train PSNR: 27.2783 | Valid Loss: 0.0022 | Valid PSNR: 27.3672 | Valid SSIM: 0.8500\n"
     ]
    },
    {
     "name": "stderr",
     "output_type": "stream",
     "text": [
      "Training Epoch 20/100:   0%|                                                                                                                                   | 0/17500 [00:00<?, ?it/s][W pthreadpool-cpp.cc:90] Warning: Leaking Caffe2 thread-pool after fork. (function pthreadpool)\n",
      "[W pthreadpool-cpp.cc:90] Warning: Leaking Caffe2 thread-pool after fork. (function pthreadpool)\n",
      "[W pthreadpool-cpp.cc:90] Warning: Leaking Caffe2 thread-pool after fork. (function pthreadpool)\n",
      "[W pthreadpool-cpp.cc:90] Warning: Leaking Caffe2 thread-pool after fork. (function pthreadpool)\n",
      "Training Epoch 20/100: 100%|███████████████████████████████████████████████████████████████████████████████████████████████████████████████████████| 17500/17500 [10:26<00:00, 27.93it/s]\n",
      "Validating:   0%|                                                                                                                                               | 0/1750 [00:00<?, ?it/s][W pthreadpool-cpp.cc:90] Warning: Leaking Caffe2 thread-pool after fork. (function pthreadpool)\n",
      "[W pthreadpool-cpp.cc:90] Warning: Leaking Caffe2 thread-pool after fork. (function pthreadpool)\n",
      "[W pthreadpool-cpp.cc:90] Warning: Leaking Caffe2 thread-pool after fork. (function pthreadpool)\n",
      "[W pthreadpool-cpp.cc:90] Warning: Leaking Caffe2 thread-pool after fork. (function pthreadpool)\n",
      "Validating: 100%|███████████████████████████████████████████████████████████████████████████████████████████████████████████████████████████████████| 1750/1750 [00:06<00:00, 256.20it/s]\n"
     ]
    },
    {
     "name": "stdout",
     "output_type": "stream",
     "text": [
      "Epoch 20/100 | Train Loss: 0.0021 | Train PSNR: 27.3041 | Valid Loss: 0.0022 | Valid PSNR: 27.4039 | Valid SSIM: 0.8502\n",
      "Best model saved!\n"
     ]
    },
    {
     "name": "stderr",
     "output_type": "stream",
     "text": [
      "Training Epoch 21/100:   0%|                                                                                                                                   | 0/17500 [00:00<?, ?it/s][W pthreadpool-cpp.cc:90] Warning: Leaking Caffe2 thread-pool after fork. (function pthreadpool)\n",
      "[W pthreadpool-cpp.cc:90] Warning: Leaking Caffe2 thread-pool after fork. (function pthreadpool)\n",
      "[W pthreadpool-cpp.cc:90] Warning: Leaking Caffe2 thread-pool after fork. (function pthreadpool)\n",
      "[W pthreadpool-cpp.cc:90] Warning: Leaking Caffe2 thread-pool after fork. (function pthreadpool)\n",
      "Training Epoch 21/100: 100%|███████████████████████████████████████████████████████████████████████████████████████████████████████████████████████| 17500/17500 [10:25<00:00, 27.99it/s]\n",
      "Validating:   0%|                                                                                                                                               | 0/1750 [00:00<?, ?it/s][W pthreadpool-cpp.cc:90] Warning: Leaking Caffe2 thread-pool after fork. (function pthreadpool)\n",
      "[W pthreadpool-cpp.cc:90] Warning: Leaking Caffe2 thread-pool after fork. (function pthreadpool)\n",
      "[W pthreadpool-cpp.cc:90] Warning: Leaking Caffe2 thread-pool after fork. (function pthreadpool)\n",
      "[W pthreadpool-cpp.cc:90] Warning: Leaking Caffe2 thread-pool after fork. (function pthreadpool)\n",
      "Validating: 100%|███████████████████████████████████████████████████████████████████████████████████████████████████████████████████████████████████| 1750/1750 [00:06<00:00, 253.24it/s]\n"
     ]
    },
    {
     "name": "stdout",
     "output_type": "stream",
     "text": [
      "Epoch 21/100 | Train Loss: 0.0021 | Train PSNR: 27.3362 | Valid Loss: 0.0022 | Valid PSNR: 27.4490 | Valid SSIM: 0.8519\n",
      "Best model saved!\n"
     ]
    },
    {
     "name": "stderr",
     "output_type": "stream",
     "text": [
      "Training Epoch 22/100:   0%|                                                                                                                                   | 0/17500 [00:00<?, ?it/s][W pthreadpool-cpp.cc:90] Warning: Leaking Caffe2 thread-pool after fork. (function pthreadpool)\n",
      "[W pthreadpool-cpp.cc:90] Warning: Leaking Caffe2 thread-pool after fork. (function pthreadpool)\n",
      "[W pthreadpool-cpp.cc:90] Warning: Leaking Caffe2 thread-pool after fork. (function pthreadpool)\n",
      "[W pthreadpool-cpp.cc:90] Warning: Leaking Caffe2 thread-pool after fork. (function pthreadpool)\n",
      "Training Epoch 22/100: 100%|███████████████████████████████████████████████████████████████████████████████████████████████████████████████████████| 17500/17500 [10:32<00:00, 27.65it/s]\n",
      "Validating:   0%|                                                                                                                                               | 0/1750 [00:00<?, ?it/s][W pthreadpool-cpp.cc:90] Warning: Leaking Caffe2 thread-pool after fork. (function pthreadpool)\n",
      "[W pthreadpool-cpp.cc:90] Warning: Leaking Caffe2 thread-pool after fork. (function pthreadpool)\n",
      "[W pthreadpool-cpp.cc:90] Warning: Leaking Caffe2 thread-pool after fork. (function pthreadpool)\n",
      "[W pthreadpool-cpp.cc:90] Warning: Leaking Caffe2 thread-pool after fork. (function pthreadpool)\n",
      "Validating: 100%|███████████████████████████████████████████████████████████████████████████████████████████████████████████████████████████████████| 1750/1750 [00:06<00:00, 252.13it/s]\n"
     ]
    },
    {
     "name": "stdout",
     "output_type": "stream",
     "text": [
      "Epoch 22/100 | Train Loss: 0.0021 | Train PSNR: 27.3637 | Valid Loss: 0.0021 | Valid PSNR: 27.5001 | Valid SSIM: 0.8533\n",
      "Best model saved!\n"
     ]
    },
    {
     "name": "stderr",
     "output_type": "stream",
     "text": [
      "Training Epoch 23/100:   0%|                                                                                                                                   | 0/17500 [00:00<?, ?it/s][W pthreadpool-cpp.cc:90] Warning: Leaking Caffe2 thread-pool after fork. (function pthreadpool)\n",
      "[W pthreadpool-cpp.cc:90] Warning: Leaking Caffe2 thread-pool after fork. (function pthreadpool)\n",
      "[W pthreadpool-cpp.cc:90] Warning: Leaking Caffe2 thread-pool after fork. (function pthreadpool)\n",
      "[W pthreadpool-cpp.cc:90] Warning: Leaking Caffe2 thread-pool after fork. (function pthreadpool)\n",
      "Training Epoch 23/100: 100%|███████████████████████████████████████████████████████████████████████████████████████████████████████████████████████| 17500/17500 [10:18<00:00, 28.28it/s]\n",
      "Validating:   0%|                                                                                                                                               | 0/1750 [00:00<?, ?it/s][W pthreadpool-cpp.cc:90] Warning: Leaking Caffe2 thread-pool after fork. (function pthreadpool)\n",
      "[W pthreadpool-cpp.cc:90] Warning: Leaking Caffe2 thread-pool after fork. (function pthreadpool)\n",
      "[W pthreadpool-cpp.cc:90] Warning: Leaking Caffe2 thread-pool after fork. (function pthreadpool)\n",
      "[W pthreadpool-cpp.cc:90] Warning: Leaking Caffe2 thread-pool after fork. (function pthreadpool)\n",
      "Validating: 100%|███████████████████████████████████████████████████████████████████████████████████████████████████████████████████████████████████| 1750/1750 [00:07<00:00, 245.05it/s]\n"
     ]
    },
    {
     "name": "stdout",
     "output_type": "stream",
     "text": [
      "Epoch 23/100 | Train Loss: 0.0021 | Train PSNR: 27.3822 | Valid Loss: 0.0021 | Valid PSNR: 27.4749 | Valid SSIM: 0.8529\n"
     ]
    },
    {
     "name": "stderr",
     "output_type": "stream",
     "text": [
      "Training Epoch 24/100:   0%|                                                                                                                                   | 0/17500 [00:00<?, ?it/s][W pthreadpool-cpp.cc:90] Warning: Leaking Caffe2 thread-pool after fork. (function pthreadpool)\n",
      "[W pthreadpool-cpp.cc:90] Warning: Leaking Caffe2 thread-pool after fork. (function pthreadpool)\n",
      "[W pthreadpool-cpp.cc:90] Warning: Leaking Caffe2 thread-pool after fork. (function pthreadpool)\n",
      "[W pthreadpool-cpp.cc:90] Warning: Leaking Caffe2 thread-pool after fork. (function pthreadpool)\n",
      "Training Epoch 24/100: 100%|███████████████████████████████████████████████████████████████████████████████████████████████████████████████████████| 17500/17500 [10:28<00:00, 27.86it/s]\n",
      "Validating:   0%|                                                                                                                                               | 0/1750 [00:00<?, ?it/s][W pthreadpool-cpp.cc:90] Warning: Leaking Caffe2 thread-pool after fork. (function pthreadpool)\n",
      "[W pthreadpool-cpp.cc:90] Warning: Leaking Caffe2 thread-pool after fork. (function pthreadpool)\n",
      "[W pthreadpool-cpp.cc:90] Warning: Leaking Caffe2 thread-pool after fork. (function pthreadpool)\n",
      "[W pthreadpool-cpp.cc:90] Warning: Leaking Caffe2 thread-pool after fork. (function pthreadpool)\n",
      "Validating: 100%|███████████████████████████████████████████████████████████████████████████████████████████████████████████████████████████████████| 1750/1750 [00:07<00:00, 225.17it/s]\n"
     ]
    },
    {
     "name": "stdout",
     "output_type": "stream",
     "text": [
      "Epoch 24/100 | Train Loss: 0.0021 | Train PSNR: 27.4152 | Valid Loss: 0.0021 | Valid PSNR: 27.4877 | Valid SSIM: 0.8536\n"
     ]
    },
    {
     "name": "stderr",
     "output_type": "stream",
     "text": [
      "Training Epoch 25/100:   0%|                                                                                                                                   | 0/17500 [00:00<?, ?it/s][W pthreadpool-cpp.cc:90] Warning: Leaking Caffe2 thread-pool after fork. (function pthreadpool)\n",
      "[W pthreadpool-cpp.cc:90] Warning: Leaking Caffe2 thread-pool after fork. (function pthreadpool)\n",
      "[W pthreadpool-cpp.cc:90] Warning: Leaking Caffe2 thread-pool after fork. (function pthreadpool)\n",
      "[W pthreadpool-cpp.cc:90] Warning: Leaking Caffe2 thread-pool after fork. (function pthreadpool)\n",
      "Training Epoch 25/100: 100%|███████████████████████████████████████████████████████████████████████████████████████████████████████████████████████| 17500/17500 [10:47<00:00, 27.02it/s]\n",
      "Validating:   0%|                                                                                                                                               | 0/1750 [00:00<?, ?it/s][W pthreadpool-cpp.cc:90] Warning: Leaking Caffe2 thread-pool after fork. (function pthreadpool)\n",
      "[W pthreadpool-cpp.cc:90] Warning: Leaking Caffe2 thread-pool after fork. (function pthreadpool)\n",
      "[W pthreadpool-cpp.cc:90] Warning: Leaking Caffe2 thread-pool after fork. (function pthreadpool)\n",
      "[W pthreadpool-cpp.cc:90] Warning: Leaking Caffe2 thread-pool after fork. (function pthreadpool)\n",
      "Validating: 100%|███████████████████████████████████████████████████████████████████████████████████████████████████████████████████████████████████| 1750/1750 [00:06<00:00, 251.70it/s]\n"
     ]
    },
    {
     "name": "stdout",
     "output_type": "stream",
     "text": [
      "Epoch 25/100 | Train Loss: 0.0021 | Train PSNR: 27.4253 | Valid Loss: 0.0021 | Valid PSNR: 27.5103 | Valid SSIM: 0.8539\n",
      "Best model saved!\n"
     ]
    },
    {
     "name": "stderr",
     "output_type": "stream",
     "text": [
      "Training Epoch 26/100:   0%|                                                                                                                                   | 0/17500 [00:00<?, ?it/s][W pthreadpool-cpp.cc:90] Warning: Leaking Caffe2 thread-pool after fork. (function pthreadpool)\n",
      "[W pthreadpool-cpp.cc:90] Warning: Leaking Caffe2 thread-pool after fork. (function pthreadpool)\n",
      "[W pthreadpool-cpp.cc:90] Warning: Leaking Caffe2 thread-pool after fork. (function pthreadpool)\n",
      "[W pthreadpool-cpp.cc:90] Warning: Leaking Caffe2 thread-pool after fork. (function pthreadpool)\n",
      "Training Epoch 26/100: 100%|███████████████████████████████████████████████████████████████████████████████████████████████████████████████████████| 17500/17500 [10:33<00:00, 27.64it/s]\n",
      "Validating:   0%|                                                                                                                                               | 0/1750 [00:00<?, ?it/s][W pthreadpool-cpp.cc:90] Warning: Leaking Caffe2 thread-pool after fork. (function pthreadpool)\n",
      "[W pthreadpool-cpp.cc:90] Warning: Leaking Caffe2 thread-pool after fork. (function pthreadpool)\n",
      "[W pthreadpool-cpp.cc:90] Warning: Leaking Caffe2 thread-pool after fork. (function pthreadpool)\n",
      "[W pthreadpool-cpp.cc:90] Warning: Leaking Caffe2 thread-pool after fork. (function pthreadpool)\n",
      "Validating: 100%|███████████████████████████████████████████████████████████████████████████████████████████████████████████████████████████████████| 1750/1750 [00:07<00:00, 245.16it/s]\n"
     ]
    },
    {
     "name": "stdout",
     "output_type": "stream",
     "text": [
      "Epoch 26/100 | Train Loss: 0.0021 | Train PSNR: 27.4479 | Valid Loss: 0.0022 | Valid PSNR: 27.4067 | Valid SSIM: 0.8497\n"
     ]
    },
    {
     "name": "stderr",
     "output_type": "stream",
     "text": [
      "Training Epoch 27/100:   0%|                                                                                                                                   | 0/17500 [00:00<?, ?it/s][W pthreadpool-cpp.cc:90] Warning: Leaking Caffe2 thread-pool after fork. (function pthreadpool)\n",
      "[W pthreadpool-cpp.cc:90] Warning: Leaking Caffe2 thread-pool after fork. (function pthreadpool)\n",
      "[W pthreadpool-cpp.cc:90] Warning: Leaking Caffe2 thread-pool after fork. (function pthreadpool)\n",
      "[W pthreadpool-cpp.cc:90] Warning: Leaking Caffe2 thread-pool after fork. (function pthreadpool)\n",
      "Training Epoch 27/100: 100%|███████████████████████████████████████████████████████████████████████████████████████████████████████████████████████| 17500/17500 [10:35<00:00, 27.54it/s]\n",
      "Validating:   0%|                                                                                                                                               | 0/1750 [00:00<?, ?it/s][W pthreadpool-cpp.cc:90] Warning: Leaking Caffe2 thread-pool after fork. (function pthreadpool)\n",
      "[W pthreadpool-cpp.cc:90] Warning: Leaking Caffe2 thread-pool after fork. (function pthreadpool)\n",
      "[W pthreadpool-cpp.cc:90] Warning: Leaking Caffe2 thread-pool after fork. (function pthreadpool)\n",
      "[W pthreadpool-cpp.cc:90] Warning: Leaking Caffe2 thread-pool after fork. (function pthreadpool)\n",
      "Validating: 100%|███████████████████████████████████████████████████████████████████████████████████████████████████████████████████████████████████| 1750/1750 [00:07<00:00, 244.35it/s]\n"
     ]
    },
    {
     "name": "stdout",
     "output_type": "stream",
     "text": [
      "Epoch 27/100 | Train Loss: 0.0021 | Train PSNR: 27.4637 | Valid Loss: 0.0021 | Valid PSNR: 27.4981 | Valid SSIM: 0.8549\n",
      "Best model saved!\n"
     ]
    },
    {
     "name": "stderr",
     "output_type": "stream",
     "text": [
      "Training Epoch 28/100:   0%|                                                                                                                                   | 0/17500 [00:00<?, ?it/s][W pthreadpool-cpp.cc:90] Warning: Leaking Caffe2 thread-pool after fork. (function pthreadpool)\n",
      "[W pthreadpool-cpp.cc:90] Warning: Leaking Caffe2 thread-pool after fork. (function pthreadpool)\n",
      "[W pthreadpool-cpp.cc:90] Warning: Leaking Caffe2 thread-pool after fork. (function pthreadpool)\n",
      "[W pthreadpool-cpp.cc:90] Warning: Leaking Caffe2 thread-pool after fork. (function pthreadpool)\n",
      "Training Epoch 28/100: 100%|███████████████████████████████████████████████████████████████████████████████████████████████████████████████████████| 17500/17500 [10:15<00:00, 28.43it/s]\n",
      "Validating:   0%|                                                                                                                                               | 0/1750 [00:00<?, ?it/s][W pthreadpool-cpp.cc:90] Warning: Leaking Caffe2 thread-pool after fork. (function pthreadpool)\n",
      "[W pthreadpool-cpp.cc:90] Warning: Leaking Caffe2 thread-pool after fork. (function pthreadpool)\n",
      "[W pthreadpool-cpp.cc:90] Warning: Leaking Caffe2 thread-pool after fork. (function pthreadpool)\n",
      "[W pthreadpool-cpp.cc:90] Warning: Leaking Caffe2 thread-pool after fork. (function pthreadpool)\n",
      "Validating: 100%|███████████████████████████████████████████████████████████████████████████████████████████████████████████████████████████████████| 1750/1750 [00:07<00:00, 243.27it/s]\n"
     ]
    },
    {
     "name": "stdout",
     "output_type": "stream",
     "text": [
      "Epoch 28/100 | Train Loss: 0.0021 | Train PSNR: 27.4879 | Valid Loss: 0.0021 | Valid PSNR: 27.4846 | Valid SSIM: 0.8544\n"
     ]
    },
    {
     "name": "stderr",
     "output_type": "stream",
     "text": [
      "Training Epoch 29/100:   0%|                                                                                                                                   | 0/17500 [00:00<?, ?it/s][W pthreadpool-cpp.cc:90] Warning: Leaking Caffe2 thread-pool after fork. (function pthreadpool)\n",
      "[W pthreadpool-cpp.cc:90] Warning: Leaking Caffe2 thread-pool after fork. (function pthreadpool)\n",
      "[W pthreadpool-cpp.cc:90] Warning: Leaking Caffe2 thread-pool after fork. (function pthreadpool)\n",
      "[W pthreadpool-cpp.cc:90] Warning: Leaking Caffe2 thread-pool after fork. (function pthreadpool)\n",
      "Training Epoch 29/100: 100%|███████████████████████████████████████████████████████████████████████████████████████████████████████████████████████| 17500/17500 [09:53<00:00, 29.50it/s]\n",
      "Validating:   0%|                                                                                                                                               | 0/1750 [00:00<?, ?it/s][W pthreadpool-cpp.cc:90] Warning: Leaking Caffe2 thread-pool after fork. (function pthreadpool)\n",
      "[W pthreadpool-cpp.cc:90] Warning: Leaking Caffe2 thread-pool after fork. (function pthreadpool)\n",
      "[W pthreadpool-cpp.cc:90] Warning: Leaking Caffe2 thread-pool after fork. (function pthreadpool)\n",
      "[W pthreadpool-cpp.cc:90] Warning: Leaking Caffe2 thread-pool after fork. (function pthreadpool)\n",
      "Validating: 100%|███████████████████████████████████████████████████████████████████████████████████████████████████████████████████████████████████| 1750/1750 [00:07<00:00, 247.32it/s]\n"
     ]
    },
    {
     "name": "stdout",
     "output_type": "stream",
     "text": [
      "Epoch 29/100 | Train Loss: 0.0020 | Train PSNR: 27.5077 | Valid Loss: 0.0021 | Valid PSNR: 27.5598 | Valid SSIM: 0.8551\n",
      "Best model saved!\n"
     ]
    },
    {
     "name": "stderr",
     "output_type": "stream",
     "text": [
      "Training Epoch 30/100:   0%|                                                                                                                                   | 0/17500 [00:00<?, ?it/s][W pthreadpool-cpp.cc:90] Warning: Leaking Caffe2 thread-pool after fork. (function pthreadpool)\n",
      "[W pthreadpool-cpp.cc:90] Warning: Leaking Caffe2 thread-pool after fork. (function pthreadpool)\n",
      "[W pthreadpool-cpp.cc:90] Warning: Leaking Caffe2 thread-pool after fork. (function pthreadpool)\n",
      "[W pthreadpool-cpp.cc:90] Warning: Leaking Caffe2 thread-pool after fork. (function pthreadpool)\n",
      "Training Epoch 30/100: 100%|███████████████████████████████████████████████████████████████████████████████████████████████████████████████████████| 17500/17500 [10:32<00:00, 27.66it/s]\n",
      "Validating:   0%|                                                                                                                                               | 0/1750 [00:00<?, ?it/s][W pthreadpool-cpp.cc:90] Warning: Leaking Caffe2 thread-pool after fork. (function pthreadpool)\n",
      "[W pthreadpool-cpp.cc:90] Warning: Leaking Caffe2 thread-pool after fork. (function pthreadpool)\n",
      "[W pthreadpool-cpp.cc:90] Warning: Leaking Caffe2 thread-pool after fork. (function pthreadpool)\n",
      "[W pthreadpool-cpp.cc:90] Warning: Leaking Caffe2 thread-pool after fork. (function pthreadpool)\n",
      "Validating: 100%|███████████████████████████████████████████████████████████████████████████████████████████████████████████████████████████████████| 1750/1750 [00:07<00:00, 245.33it/s]\n"
     ]
    },
    {
     "name": "stdout",
     "output_type": "stream",
     "text": [
      "Epoch 30/100 | Train Loss: 0.0020 | Train PSNR: 27.5311 | Valid Loss: 0.0021 | Valid PSNR: 27.5545 | Valid SSIM: 0.8548\n"
     ]
    },
    {
     "name": "stderr",
     "output_type": "stream",
     "text": [
      "Training Epoch 31/100:   0%|                                                                                                                                   | 0/17500 [00:00<?, ?it/s][W pthreadpool-cpp.cc:90] Warning: Leaking Caffe2 thread-pool after fork. (function pthreadpool)\n",
      "[W pthreadpool-cpp.cc:90] Warning: Leaking Caffe2 thread-pool after fork. (function pthreadpool)\n",
      "[W pthreadpool-cpp.cc:90] Warning: Leaking Caffe2 thread-pool after fork. (function pthreadpool)\n",
      "[W pthreadpool-cpp.cc:90] Warning: Leaking Caffe2 thread-pool after fork. (function pthreadpool)\n",
      "Training Epoch 31/100: 100%|███████████████████████████████████████████████████████████████████████████████████████████████████████████████████████| 17500/17500 [10:03<00:00, 29.01it/s]\n",
      "Validating:   0%|                                                                                                                                               | 0/1750 [00:00<?, ?it/s][W pthreadpool-cpp.cc:90] Warning: Leaking Caffe2 thread-pool after fork. (function pthreadpool)\n",
      "[W pthreadpool-cpp.cc:90] Warning: Leaking Caffe2 thread-pool after fork. (function pthreadpool)\n",
      "[W pthreadpool-cpp.cc:90] Warning: Leaking Caffe2 thread-pool after fork. (function pthreadpool)\n",
      "[W pthreadpool-cpp.cc:90] Warning: Leaking Caffe2 thread-pool after fork. (function pthreadpool)\n",
      "Validating: 100%|███████████████████████████████████████████████████████████████████████████████████████████████████████████████████████████████████| 1750/1750 [00:07<00:00, 246.18it/s]\n"
     ]
    },
    {
     "name": "stdout",
     "output_type": "stream",
     "text": [
      "Epoch 31/100 | Train Loss: 0.0020 | Train PSNR: 27.5390 | Valid Loss: 0.0021 | Valid PSNR: 27.5937 | Valid SSIM: 0.8551\n",
      "Best model saved!\n"
     ]
    },
    {
     "name": "stderr",
     "output_type": "stream",
     "text": [
      "Training Epoch 32/100:   0%|                                                                                                                                   | 0/17500 [00:00<?, ?it/s][W pthreadpool-cpp.cc:90] Warning: Leaking Caffe2 thread-pool after fork. (function pthreadpool)\n",
      "[W pthreadpool-cpp.cc:90] Warning: Leaking Caffe2 thread-pool after fork. (function pthreadpool)\n",
      "[W pthreadpool-cpp.cc:90] Warning: Leaking Caffe2 thread-pool after fork. (function pthreadpool)\n",
      "[W pthreadpool-cpp.cc:90] Warning: Leaking Caffe2 thread-pool after fork. (function pthreadpool)\n",
      "Training Epoch 32/100: 100%|███████████████████████████████████████████████████████████████████████████████████████████████████████████████████████| 17500/17500 [10:31<00:00, 27.70it/s]\n",
      "Validating:   0%|                                                                                                                                               | 0/1750 [00:00<?, ?it/s][W pthreadpool-cpp.cc:90] Warning: Leaking Caffe2 thread-pool after fork. (function pthreadpool)\n",
      "[W pthreadpool-cpp.cc:90] Warning: Leaking Caffe2 thread-pool after fork. (function pthreadpool)\n",
      "[W pthreadpool-cpp.cc:90] Warning: Leaking Caffe2 thread-pool after fork. (function pthreadpool)\n",
      "[W pthreadpool-cpp.cc:90] Warning: Leaking Caffe2 thread-pool after fork. (function pthreadpool)\n",
      "Validating: 100%|███████████████████████████████████████████████████████████████████████████████████████████████████████████████████████████████████| 1750/1750 [00:07<00:00, 245.65it/s]\n"
     ]
    },
    {
     "name": "stdout",
     "output_type": "stream",
     "text": [
      "Epoch 32/100 | Train Loss: 0.0020 | Train PSNR: 27.5526 | Valid Loss: 0.0021 | Valid PSNR: 27.5923 | Valid SSIM: 0.8558\n",
      "Best model saved!\n"
     ]
    },
    {
     "name": "stderr",
     "output_type": "stream",
     "text": [
      "Training Epoch 33/100:   0%|                                                                                                                                   | 0/17500 [00:00<?, ?it/s][W pthreadpool-cpp.cc:90] Warning: Leaking Caffe2 thread-pool after fork. (function pthreadpool)\n",
      "[W pthreadpool-cpp.cc:90] Warning: Leaking Caffe2 thread-pool after fork. (function pthreadpool)\n",
      "[W pthreadpool-cpp.cc:90] Warning: Leaking Caffe2 thread-pool after fork. (function pthreadpool)\n",
      "[W pthreadpool-cpp.cc:90] Warning: Leaking Caffe2 thread-pool after fork. (function pthreadpool)\n",
      "Training Epoch 33/100: 100%|███████████████████████████████████████████████████████████████████████████████████████████████████████████████████████| 17500/17500 [10:27<00:00, 27.91it/s]\n",
      "Validating:   0%|                                                                                                                                               | 0/1750 [00:00<?, ?it/s][W pthreadpool-cpp.cc:90] Warning: Leaking Caffe2 thread-pool after fork. (function pthreadpool)\n",
      "[W pthreadpool-cpp.cc:90] Warning: Leaking Caffe2 thread-pool after fork. (function pthreadpool)\n",
      "[W pthreadpool-cpp.cc:90] Warning: Leaking Caffe2 thread-pool after fork. (function pthreadpool)\n",
      "[W pthreadpool-cpp.cc:90] Warning: Leaking Caffe2 thread-pool after fork. (function pthreadpool)\n",
      "Validating: 100%|███████████████████████████████████████████████████████████████████████████████████████████████████████████████████████████████████| 1750/1750 [00:07<00:00, 244.33it/s]\n"
     ]
    },
    {
     "name": "stdout",
     "output_type": "stream",
     "text": [
      "Epoch 33/100 | Train Loss: 0.0020 | Train PSNR: 27.5716 | Valid Loss: 0.0021 | Valid PSNR: 27.6127 | Valid SSIM: 0.8560\n",
      "Best model saved!\n"
     ]
    },
    {
     "name": "stderr",
     "output_type": "stream",
     "text": [
      "Training Epoch 34/100:   0%|                                                                                                                                   | 0/17500 [00:00<?, ?it/s][W pthreadpool-cpp.cc:90] Warning: Leaking Caffe2 thread-pool after fork. (function pthreadpool)\n",
      "[W pthreadpool-cpp.cc:90] Warning: Leaking Caffe2 thread-pool after fork. (function pthreadpool)\n",
      "[W pthreadpool-cpp.cc:90] Warning: Leaking Caffe2 thread-pool after fork. (function pthreadpool)\n",
      "[W pthreadpool-cpp.cc:90] Warning: Leaking Caffe2 thread-pool after fork. (function pthreadpool)\n",
      "Training Epoch 34/100: 100%|███████████████████████████████████████████████████████████████████████████████████████████████████████████████████████| 17500/17500 [10:29<00:00, 27.81it/s]\n",
      "Validating:   0%|                                                                                                                                               | 0/1750 [00:00<?, ?it/s][W pthreadpool-cpp.cc:90] Warning: Leaking Caffe2 thread-pool after fork. (function pthreadpool)\n",
      "[W pthreadpool-cpp.cc:90] Warning: Leaking Caffe2 thread-pool after fork. (function pthreadpool)\n",
      "[W pthreadpool-cpp.cc:90] Warning: Leaking Caffe2 thread-pool after fork. (function pthreadpool)\n",
      "[W pthreadpool-cpp.cc:90] Warning: Leaking Caffe2 thread-pool after fork. (function pthreadpool)\n",
      "Validating: 100%|███████████████████████████████████████████████████████████████████████████████████████████████████████████████████████████████████| 1750/1750 [00:08<00:00, 217.19it/s]\n"
     ]
    },
    {
     "name": "stdout",
     "output_type": "stream",
     "text": [
      "Epoch 34/100 | Train Loss: 0.0020 | Train PSNR: 27.5944 | Valid Loss: 0.0021 | Valid PSNR: 27.6011 | Valid SSIM: 0.8562\n"
     ]
    },
    {
     "name": "stderr",
     "output_type": "stream",
     "text": [
      "Training Epoch 35/100:   0%|                                                                                                                                   | 0/17500 [00:00<?, ?it/s][W pthreadpool-cpp.cc:90] Warning: Leaking Caffe2 thread-pool after fork. (function pthreadpool)\n",
      "[W pthreadpool-cpp.cc:90] Warning: Leaking Caffe2 thread-pool after fork. (function pthreadpool)\n",
      "[W pthreadpool-cpp.cc:90] Warning: Leaking Caffe2 thread-pool after fork. (function pthreadpool)\n",
      "[W pthreadpool-cpp.cc:90] Warning: Leaking Caffe2 thread-pool after fork. (function pthreadpool)\n",
      "Training Epoch 35/100: 100%|███████████████████████████████████████████████████████████████████████████████████████████████████████████████████████| 17500/17500 [10:34<00:00, 27.58it/s]\n",
      "Validating:   0%|                                                                                                                                               | 0/1750 [00:00<?, ?it/s][W pthreadpool-cpp.cc:90] Warning: Leaking Caffe2 thread-pool after fork. (function pthreadpool)\n",
      "[W pthreadpool-cpp.cc:90] Warning: Leaking Caffe2 thread-pool after fork. (function pthreadpool)\n",
      "[W pthreadpool-cpp.cc:90] Warning: Leaking Caffe2 thread-pool after fork. (function pthreadpool)\n",
      "[W pthreadpool-cpp.cc:90] Warning: Leaking Caffe2 thread-pool after fork. (function pthreadpool)\n",
      "Validating: 100%|███████████████████████████████████████████████████████████████████████████████████████████████████████████████████████████████████| 1750/1750 [00:07<00:00, 243.81it/s]\n"
     ]
    },
    {
     "name": "stdout",
     "output_type": "stream",
     "text": [
      "Epoch 35/100 | Train Loss: 0.0020 | Train PSNR: 27.5899 | Valid Loss: 0.0021 | Valid PSNR: 27.6435 | Valid SSIM: 0.8569\n",
      "Best model saved!\n"
     ]
    },
    {
     "name": "stderr",
     "output_type": "stream",
     "text": [
      "Training Epoch 36/100:   0%|                                                                                                                                   | 0/17500 [00:00<?, ?it/s][W pthreadpool-cpp.cc:90] Warning: Leaking Caffe2 thread-pool after fork. (function pthreadpool)\n",
      "[W pthreadpool-cpp.cc:90] Warning: Leaking Caffe2 thread-pool after fork. (function pthreadpool)\n",
      "[W pthreadpool-cpp.cc:90] Warning: Leaking Caffe2 thread-pool after fork. (function pthreadpool)\n",
      "[W pthreadpool-cpp.cc:90] Warning: Leaking Caffe2 thread-pool after fork. (function pthreadpool)\n",
      "Training Epoch 36/100: 100%|███████████████████████████████████████████████████████████████████████████████████████████████████████████████████████| 17500/17500 [10:23<00:00, 28.05it/s]\n",
      "Validating:   0%|                                                                                                                                               | 0/1750 [00:00<?, ?it/s][W pthreadpool-cpp.cc:90] Warning: Leaking Caffe2 thread-pool after fork. (function pthreadpool)\n",
      "[W pthreadpool-cpp.cc:90] Warning: Leaking Caffe2 thread-pool after fork. (function pthreadpool)\n",
      "[W pthreadpool-cpp.cc:90] Warning: Leaking Caffe2 thread-pool after fork. (function pthreadpool)\n",
      "[W pthreadpool-cpp.cc:90] Warning: Leaking Caffe2 thread-pool after fork. (function pthreadpool)\n",
      "Validating: 100%|███████████████████████████████████████████████████████████████████████████████████████████████████████████████████████████████████| 1750/1750 [00:07<00:00, 238.60it/s]\n"
     ]
    },
    {
     "name": "stdout",
     "output_type": "stream",
     "text": [
      "Epoch 36/100 | Train Loss: 0.0020 | Train PSNR: 27.6150 | Valid Loss: 0.0021 | Valid PSNR: 27.6420 | Valid SSIM: 0.8566\n"
     ]
    },
    {
     "name": "stderr",
     "output_type": "stream",
     "text": [
      "Training Epoch 37/100:   0%|                                                                                                                                   | 0/17500 [00:00<?, ?it/s][W pthreadpool-cpp.cc:90] Warning: Leaking Caffe2 thread-pool after fork. (function pthreadpool)\n",
      "[W pthreadpool-cpp.cc:90] Warning: Leaking Caffe2 thread-pool after fork. (function pthreadpool)\n",
      "[W pthreadpool-cpp.cc:90] Warning: Leaking Caffe2 thread-pool after fork. (function pthreadpool)\n",
      "[W pthreadpool-cpp.cc:90] Warning: Leaking Caffe2 thread-pool after fork. (function pthreadpool)\n",
      "Training Epoch 37/100: 100%|███████████████████████████████████████████████████████████████████████████████████████████████████████████████████████| 17500/17500 [10:12<00:00, 28.56it/s]\n",
      "Validating:   0%|                                                                                                                                               | 0/1750 [00:00<?, ?it/s][W pthreadpool-cpp.cc:90] Warning: Leaking Caffe2 thread-pool after fork. (function pthreadpool)\n",
      "[W pthreadpool-cpp.cc:90] Warning: Leaking Caffe2 thread-pool after fork. (function pthreadpool)\n",
      "[W pthreadpool-cpp.cc:90] Warning: Leaking Caffe2 thread-pool after fork. (function pthreadpool)\n",
      "[W pthreadpool-cpp.cc:90] Warning: Leaking Caffe2 thread-pool after fork. (function pthreadpool)\n",
      "Validating: 100%|███████████████████████████████████████████████████████████████████████████████████████████████████████████████████████████████████| 1750/1750 [00:07<00:00, 233.66it/s]\n"
     ]
    },
    {
     "name": "stdout",
     "output_type": "stream",
     "text": [
      "Epoch 37/100 | Train Loss: 0.0020 | Train PSNR: 27.6314 | Valid Loss: 0.0021 | Valid PSNR: 27.6440 | Valid SSIM: 0.8567\n"
     ]
    },
    {
     "name": "stderr",
     "output_type": "stream",
     "text": [
      "Training Epoch 38/100:   0%|                                                                                                                                   | 0/17500 [00:00<?, ?it/s][W pthreadpool-cpp.cc:90] Warning: Leaking Caffe2 thread-pool after fork. (function pthreadpool)\n",
      "[W pthreadpool-cpp.cc:90] Warning: Leaking Caffe2 thread-pool after fork. (function pthreadpool)\n",
      "[W pthreadpool-cpp.cc:90] Warning: Leaking Caffe2 thread-pool after fork. (function pthreadpool)\n",
      "[W pthreadpool-cpp.cc:90] Warning: Leaking Caffe2 thread-pool after fork. (function pthreadpool)\n",
      "Training Epoch 38/100: 100%|███████████████████████████████████████████████████████████████████████████████████████████████████████████████████████| 17500/17500 [10:31<00:00, 27.70it/s]\n",
      "Validating:   0%|                                                                                                                                               | 0/1750 [00:00<?, ?it/s][W pthreadpool-cpp.cc:90] Warning: Leaking Caffe2 thread-pool after fork. (function pthreadpool)\n",
      "[W pthreadpool-cpp.cc:90] Warning: Leaking Caffe2 thread-pool after fork. (function pthreadpool)\n",
      "[W pthreadpool-cpp.cc:90] Warning: Leaking Caffe2 thread-pool after fork. (function pthreadpool)\n",
      "[W pthreadpool-cpp.cc:90] Warning: Leaking Caffe2 thread-pool after fork. (function pthreadpool)\n",
      "Validating: 100%|███████████████████████████████████████████████████████████████████████████████████████████████████████████████████████████████████| 1750/1750 [00:07<00:00, 244.76it/s]\n"
     ]
    },
    {
     "name": "stdout",
     "output_type": "stream",
     "text": [
      "Epoch 38/100 | Train Loss: 0.0020 | Train PSNR: 27.6338 | Valid Loss: 0.0021 | Valid PSNR: 27.6147 | Valid SSIM: 0.8563\n"
     ]
    },
    {
     "name": "stderr",
     "output_type": "stream",
     "text": [
      "Training Epoch 39/100:   0%|                                                                                                                                   | 0/17500 [00:00<?, ?it/s][W pthreadpool-cpp.cc:90] Warning: Leaking Caffe2 thread-pool after fork. (function pthreadpool)\n",
      "[W pthreadpool-cpp.cc:90] Warning: Leaking Caffe2 thread-pool after fork. (function pthreadpool)\n",
      "[W pthreadpool-cpp.cc:90] Warning: Leaking Caffe2 thread-pool after fork. (function pthreadpool)\n",
      "[W pthreadpool-cpp.cc:90] Warning: Leaking Caffe2 thread-pool after fork. (function pthreadpool)\n",
      "Training Epoch 39/100: 100%|██████████████████████████████████████████████████████████████████████████████████████████████████████████████████████▉| 17499/17500 [10:38<00:00, 28.34it/s][W pthreadpool-cpp.cc:90] Warning: Leaking Caffe2 thread-pool after fork. (function pthreadpool)\n",
      "Training Epoch 39/100: 100%|███████████████████████████████████████████████████████████████████████████████████████████████████████████████████████| 17500/17500 [10:38<00:00, 27.41it/s]\n",
      "Validating:   0%|                                                                                                                                               | 0/1750 [00:00<?, ?it/s][W pthreadpool-cpp.cc:90] Warning: Leaking Caffe2 thread-pool after fork. (function pthreadpool)\n",
      "[W pthreadpool-cpp.cc:90] Warning: Leaking Caffe2 thread-pool after fork. (function pthreadpool)\n",
      "[W pthreadpool-cpp.cc:90] Warning: Leaking Caffe2 thread-pool after fork. (function pthreadpool)\n",
      "[W pthreadpool-cpp.cc:90] Warning: Leaking Caffe2 thread-pool after fork. (function pthreadpool)\n",
      "Validating: 100%|███████████████████████████████████████████████████████████████████████████████████████████████████████████████████████████████████| 1750/1750 [00:07<00:00, 245.66it/s]\n"
     ]
    },
    {
     "name": "stdout",
     "output_type": "stream",
     "text": [
      "Epoch 39/100 | Train Loss: 0.0020 | Train PSNR: 27.6416 | Valid Loss: 0.0021 | Valid PSNR: 27.6288 | Valid SSIM: 0.8576\n"
     ]
    },
    {
     "name": "stderr",
     "output_type": "stream",
     "text": [
      "Training Epoch 40/100:   0%|                                                                                                                                   | 0/17500 [00:00<?, ?it/s][W pthreadpool-cpp.cc:90] Warning: Leaking Caffe2 thread-pool after fork. (function pthreadpool)\n",
      "[W pthreadpool-cpp.cc:90] Warning: Leaking Caffe2 thread-pool after fork. (function pthreadpool)\n",
      "[W pthreadpool-cpp.cc:90] Warning: Leaking Caffe2 thread-pool after fork. (function pthreadpool)\n",
      "[W pthreadpool-cpp.cc:90] Warning: Leaking Caffe2 thread-pool after fork. (function pthreadpool)\n",
      "Training Epoch 40/100: 100%|███████████████████████████████████████████████████████████████████████████████████████████████████████████████████████| 17500/17500 [10:34<00:00, 27.59it/s]\n",
      "Validating:   0%|                                                                                                                                               | 0/1750 [00:00<?, ?it/s][W pthreadpool-cpp.cc:90] Warning: Leaking Caffe2 thread-pool after fork. (function pthreadpool)\n",
      "[W pthreadpool-cpp.cc:90] Warning: Leaking Caffe2 thread-pool after fork. (function pthreadpool)\n",
      "[W pthreadpool-cpp.cc:90] Warning: Leaking Caffe2 thread-pool after fork. (function pthreadpool)\n",
      "[W pthreadpool-cpp.cc:90] Warning: Leaking Caffe2 thread-pool after fork. (function pthreadpool)\n",
      "Validating: 100%|███████████████████████████████████████████████████████████████████████████████████████████████████████████████████████████████████| 1750/1750 [00:07<00:00, 242.13it/s]\n"
     ]
    },
    {
     "name": "stdout",
     "output_type": "stream",
     "text": [
      "Epoch 40/100 | Train Loss: 0.0020 | Train PSNR: 27.6565 | Valid Loss: 0.0021 | Valid PSNR: 27.6287 | Valid SSIM: 0.8561\n",
      "Early stopping triggered!\n"
     ]
    },
    {
     "name": "stderr",
     "output_type": "stream",
     "text": [
      "Testing: 100%|██████████████████████████████████████████████████████████████████████████████████████████████████████████████████████████████████████| 7000/7000 [00:21<00:00, 318.91it/s]"
     ]
    },
    {
     "name": "stdout",
     "output_type": "stream",
     "text": [
      "VDSR - Test PSNR: 28.9450, Test SSIM: 0.8569\n"
     ]
    },
    {
     "name": "stderr",
     "output_type": "stream",
     "text": [
      "\n"
     ]
    }
   ],
   "source": [
    "import os\n",
    "from PIL import Image\n",
    "import torch\n",
    "import torch.nn as nn\n",
    "import torch.optim as optim\n",
    "from torch.utils.data import Dataset, DataLoader\n",
    "import torchvision.transforms as transforms\n",
    "import torch.nn.functional as F\n",
    "from tqdm import tqdm\n",
    "\n",
    "def calculate_psnr(img1, img2, max_val=1.0):\n",
    "    mse = F.mse_loss(img1, img2, reduction='mean')\n",
    "    if mse == 0:\n",
    "        return float('inf')\n",
    "    return 10 * torch.log10(max_val**2 / mse)\n",
    "\n",
    "def calculate_ssim(img1, img2, max_val=1.0):\n",
    "    C1 = (0.01 * max_val) ** 2\n",
    "    C2 = (0.03 * max_val) ** 2\n",
    "\n",
    "    mu1 = F.avg_pool2d(img1, kernel_size=3, stride=1, padding=1)\n",
    "    mu2 = F.avg_pool2d(img2, kernel_size=3, stride=1, padding=1)\n",
    "\n",
    "    sigma1_sq = F.avg_pool2d(img1 * img1, kernel_size=3, stride=1, padding=1) - mu1.pow(2)\n",
    "    sigma2_sq = F.avg_pool2d(img2 * img2, kernel_size=3, stride=1, padding=1) - mu2.pow(2)\n",
    "    sigma12 = F.avg_pool2d(img1 * img2, kernel_size=3, stride=1, padding=1) - mu1 * mu2\n",
    "\n",
    "    ssim_map = ((2 * mu1 * mu2 + C1) * (2 * sigma12 + C2)) / ((mu1.pow(2) + mu2.pow(2) + C1) * (sigma1_sq + sigma2_sq + C2))\n",
    "    return ssim_map.mean()\n",
    "\n",
    "def create_low_res_images(input_dir, output_dir, scale):\n",
    "    os.makedirs(output_dir, exist_ok=True)\n",
    "    for filename in os.listdir(input_dir):\n",
    "        if filename.lower().endswith(('png', 'jpg', 'jpeg')):\n",
    "            img = Image.open(os.path.join(input_dir, filename))\n",
    "            lr_img = img.resize((img.width // scale, img.height // scale), Image.Resampling.BICUBIC)\n",
    "            lr_img.save(os.path.join(output_dir, filename))\n",
    "\n",
    "\n",
    "def get_image_paths(directory):\n",
    "    return sorted([os.path.join(directory, f) for f in os.listdir(directory) if f.lower().endswith(('png', 'jpg', 'jpeg'))])\n",
    "\n",
    "class SRDataset(Dataset):\n",
    "    def __init__(self, hr_dir, lr_dir, transform=None, input_size=(64, 64)):\n",
    "        self.hr_paths = get_image_paths(hr_dir)\n",
    "        self.lr_paths = get_image_paths(lr_dir)\n",
    "        self.transform = transform\n",
    "        self.input_size = input_size\n",
    "\n",
    "    def __len__(self):\n",
    "        return len(self.hr_paths)\n",
    "\n",
    "    def __getitem__(self, idx):\n",
    "        hr_img = Image.open(self.hr_paths[idx]).convert(\"RGB\")\n",
    "        lr_img = Image.open(self.lr_paths[idx]).convert(\"RGB\")\n",
    "\n",
    "        lr_img = lr_img.resize(self.input_size, Image.Resampling.BICUBIC)\n",
    "        hr_img = hr_img.resize(self.input_size, Image.Resampling.BICUBIC)  # 타겟 크기 맞춤\n",
    "\n",
    "        if self.transform:\n",
    "            hr_img = self.transform(hr_img)\n",
    "            lr_img = self.transform(lr_img)\n",
    "\n",
    "        return lr_img, hr_img\n",
    "\n",
    "# VDSR 모델 정의\n",
    "class VDSR(nn.Module):\n",
    "    def __init__(self):\n",
    "        super(VDSR, self).__init__()\n",
    "        self.conv1 = nn.Conv2d(3, 64, kernel_size=3, padding=1)\n",
    "        self.residual_layer = self.make_layer(64, 18)\n",
    "        self.conv2 = nn.Conv2d(64, 3, kernel_size=3, padding=1)\n",
    "        self.relu = nn.ReLU(inplace=True)\n",
    "\n",
    "    def make_layer(self, channels, num_layers):\n",
    "        layers = []\n",
    "        for _ in range(num_layers):\n",
    "            layers.append(nn.Conv2d(channels, channels, kernel_size=3, padding=1))\n",
    "            layers.append(nn.ReLU(inplace=True))\n",
    "        return nn.Sequential(*layers)\n",
    "\n",
    "    def forward(self, x):\n",
    "        residual = x\n",
    "        out = self.relu(self.conv1(x))\n",
    "        out = self.residual_layer(out)\n",
    "        out = self.conv2(out)\n",
    "        out += residual  # Skip connection\n",
    "        return out\n",
    "\n",
    "\n",
    "def train_model(model, train_loader, valid_loader, criterion, optimizer, device, num_epochs, save_path, patience=5):\n",
    "    best_valid_loss = float('inf')\n",
    "    early_stop_counter = 0\n",
    "\n",
    "    for epoch in range(num_epochs):\n",
    "        model.train()\n",
    "        train_loss, train_psnr = 0, 0\n",
    "\n",
    "        for lr_imgs, hr_imgs in tqdm(train_loader, desc=f\"Training Epoch {epoch + 1}/{num_epochs}\"):\n",
    "            lr_imgs, hr_imgs = lr_imgs.to(device), hr_imgs.to(device)\n",
    "            preds = model(lr_imgs)\n",
    "            loss = criterion(preds, hr_imgs)\n",
    "\n",
    "            optimizer.zero_grad()\n",
    "            loss.backward()\n",
    "            optimizer.step()\n",
    "\n",
    "            train_loss += loss.item()\n",
    "            train_psnr += calculate_psnr(preds, hr_imgs).item()\n",
    "\n",
    "        train_loss /= len(train_loader)\n",
    "        train_psnr /= len(train_loader)\n",
    "\n",
    "        model.eval()\n",
    "        valid_loss, valid_psnr, valid_ssim = 0, 0, 0\n",
    "\n",
    "        with torch.no_grad():\n",
    "            for lr_imgs, hr_imgs in tqdm(valid_loader, desc=\"Validating\"):\n",
    "                lr_imgs, hr_imgs = lr_imgs.to(device), hr_imgs.to(device)\n",
    "                preds = model(lr_imgs)\n",
    "                valid_loss += criterion(preds, hr_imgs).item()\n",
    "                valid_psnr += calculate_psnr(preds, hr_imgs).item()\n",
    "                valid_ssim += calculate_ssim(preds, hr_imgs).item()\n",
    "\n",
    "        valid_loss /= len(valid_loader)\n",
    "        valid_psnr /= len(valid_loader)\n",
    "        valid_ssim /= len(valid_loader)\n",
    "\n",
    "        print(f\"Epoch {epoch + 1}/{num_epochs} | Train Loss: {train_loss:.4f} | Train PSNR: {train_psnr:.4f} | \"\n",
    "              f\"Valid Loss: {valid_loss:.4f} | Valid PSNR: {valid_psnr:.4f} | Valid SSIM: {valid_ssim:.4f}\")\n",
    "\n",
    "        if valid_loss < best_valid_loss:\n",
    "            best_valid_loss = valid_loss\n",
    "            torch.save(model.state_dict(), save_path)\n",
    "            print(\"Best model saved!\")\n",
    "            early_stop_counter = 0\n",
    "        else:\n",
    "            early_stop_counter += 1\n",
    "\n",
    "        if early_stop_counter >= patience:\n",
    "            print(\"Early stopping triggered!\")\n",
    "            break\n",
    "\n",
    "\n",
    "def main():\n",
    "    train_hr_dir = \"/home/a202192006/image/train\"\n",
    "    train_lr_dir = \"/home/a202192006/image/train_lr\"\n",
    "    valid_hr_dir = \"/home/a202192006/image/valid\"\n",
    "    valid_lr_dir = \"/home/a202192006/image/valid_lr\"\n",
    "\n",
    "    \n",
    "    create_low_res_images(train_hr_dir, train_lr_dir, scale=4)\n",
    "    create_low_res_images(valid_hr_dir, valid_lr_dir, scale=4)\n",
    "\n",
    "    transform = transforms.ToTensor()\n",
    "    train_dataset = SRDataset(train_hr_dir, train_lr_dir, transform, input_size=(64, 64))\n",
    "    valid_dataset = SRDataset(valid_hr_dir, valid_lr_dir, transform, input_size=(64, 64))\n",
    "\n",
    "    train_loader = DataLoader(train_dataset, batch_size=4, shuffle=True, num_workers=4, pin_memory=True)\n",
    "    valid_loader = DataLoader(valid_dataset, batch_size=4, shuffle=False, num_workers=4, pin_memory=True)\n",
    "\n",
    "    device = torch.device('cuda' if torch.cuda.is_available() else 'cpu')\n",
    "\n",
    "    model = VDSR().to(device)\n",
    "    criterion = nn.MSELoss()\n",
    "    optimizer = optim.Adam(model.parameters(), lr=1e-4)\n",
    "    save_path = \"/home/a202192006/image/vdsr/VDSR_Earlystopping_best_model.pth\"\n",
    "\n",
    "    print(\"Training VDSR...\")\n",
    "    train_model(model, train_loader, valid_loader, criterion, optimizer, device, num_epochs=100, save_path=save_path, patience=5)\n",
    "\n",
    "    test_dataset = SRDataset(valid_hr_dir, valid_lr_dir, transform, input_size=(64, 64))\n",
    "    test_loader = DataLoader(test_dataset, batch_size=1, shuffle=False)\n",
    "\n",
    "    model.load_state_dict(torch.load(save_path))\n",
    "    model.eval()\n",
    "\n",
    "    test_psnr, test_ssim = 0, 0\n",
    "    with torch.no_grad():\n",
    "        for lr_imgs, hr_imgs in tqdm(test_loader, desc=\"Testing\"):\n",
    "            lr_imgs, hr_imgs = lr_imgs.to(device), hr_imgs.to(device)\n",
    "            preds = model(lr_imgs)\n",
    "            test_psnr += calculate_psnr(preds, hr_imgs).item()\n",
    "            test_ssim += calculate_ssim(preds, hr_imgs).item()\n",
    "\n",
    "    test_psnr /= len(test_loader)\n",
    "    test_ssim /= len(test_loader)\n",
    "\n",
    "    print(f\"VDSR - Test PSNR: {test_psnr:.4f}, Test SSIM: {test_ssim:.4f}\")\n",
    "\n",
    "if __name__ == \"__main__\":\n",
    "    main()\n"
   ]
  },
  {
   "cell_type": "code",
   "execution_count": null,
   "id": "f2d527d1",
   "metadata": {},
   "outputs": [],
   "source": []
  }
 ],
 "metadata": {
  "kernelspec": {
   "display_name": "Python 3 (ipykernel)",
   "language": "python",
   "name": "python3"
  },
  "language_info": {
   "codemirror_mode": {
    "name": "ipython",
    "version": 3
   },
   "file_extension": ".py",
   "mimetype": "text/x-python",
   "name": "python",
   "nbconvert_exporter": "python",
   "pygments_lexer": "ipython3",
   "version": "3.8.10"
  }
 },
 "nbformat": 4,
 "nbformat_minor": 5
}
